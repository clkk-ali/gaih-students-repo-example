{
 "cells": [
  {
   "cell_type": "code",
   "execution_count": null,
   "metadata": {},
   "outputs": [],
   "source": [
    "class Animals():\n",
    "    def __init__(self,kind):\n",
    "        self.kind = kind\n",
    "    def print_kind(self):\n",
    "        print(\"My animal is a \" + self.kind + \".\")\n",
    "\n",
    "class Dogs(Animals):\n",
    "    def __init__(self,kind, name, legs):\n",
    "        self.dogName = name\n",
    "        self.dogLegs = legs\n",
    "        self.kind = kind\n",
    "    def print_kind(self):\n",
    "        print(\"My animal is a \" + self.kind + \".\")\n",
    "    def print_name(self):\n",
    "        print(\"My dog's name is \" + self.dogName + \".\")\n",
    "    def print_legs(self):\n",
    "        print(\"My dog has  \" + str(self.dogLegs) + \" legs.\")\n",
    "\n",
    "\n",
    "class Cats(Animals):\n",
    "    def __init__(self,kind, name, legs):\n",
    "        self.catName = name\n",
    "        self.catLegs = legs\n",
    "        self.kind = kind\n",
    "    def print_kind(self):\n",
    "        print(\"My animal is a \" + self.kind + \".\")\n",
    "    def print_name(self):\n",
    "        print(\"My cat's name is \" + self.catName + \".\")\n",
    "    def print_legs(self):\n",
    "        print(\"My cat has  \" + str(self.catLegs) + \" legs.\")\n",
    "\n",
    "\n",
    "dog = Dogs('dog', 'Duman', 4 )\n",
    "dog.print_kind()\n",
    "dog.print_name()\n",
    "dog.print_legs()\n",
    "\n",
    "cat = Cats('cat', 'Pamuk',  4)\n",
    "cat.print_kind()\n",
    "cat.print_name()\n",
    "cat.print_legs()"
   ]
  }
 ],
 "metadata": {
  "kernelspec": {
   "display_name": "Python 3",
   "language": "python",
   "name": "python3"
  },
  "language_info": {
   "codemirror_mode": {
    "name": "ipython",
    "version": 3
   },
   "file_extension": ".py",
   "mimetype": "text/x-python",
   "name": "python",
   "nbconvert_exporter": "python",
   "pygments_lexer": "ipython3",
   "version": "3.8.5"
  }
 },
 "nbformat": 4,
 "nbformat_minor": 4
}
