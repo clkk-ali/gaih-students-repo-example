{
 "cells": [
  {
   "cell_type": "code",
   "execution_count": 5,
   "metadata": {},
   "outputs": [
    {
     "name": "stdout",
     "output_type": "stream",
     "text": [
      "***Welcome to the Global AI Hub register page.***\n",
      "Please write a username: ALI\n",
      "Please write a password: CELIK\n",
      "Now you can log in our page thanks for joining us\n",
      "Username: ali\n",
      "Password: celik\n",
      "Your page is loading please wait...\n"
     ]
    }
   ],
   "source": [
    "print(\"***Welcome to the Global AI Hub register page.***\")\n",
    "username1 = input('Please write a username: ').strip().lower()\n",
    "password1 = input('Please write a password: ').strip().lower()\n",
    "\n",
    "print(\"Now you can log in our page thanks for joining us\")\n",
    "username = input('Username: ').strip().lower()\n",
    "password = input('Password: ').strip().lower()\n",
    "if username1 == username and password1 == password:\n",
    "    print('Your page is loading please wait...')\n",
    "elif username1 != username and password1 == password:   \n",
    "    print('You used an invalid username please try again')\n",
    "elif username1 == username and password1 != password:   \n",
    "    print('You used an invalid password please try again')\n",
    "elif username1 != username and password1 != password:\n",
    "    print('You used invalid username and password please try again')\n",
    "else:\n",
    "    print('You made a mistake check the security code try again')"
   ]
  },
  {
   "cell_type": "code",
   "execution_count": 10,
   "metadata": {},
   "outputs": [
    {
     "name": "stdout",
     "output_type": "stream",
     "text": [
      "Now you can log in, thanks for joining us\n",
      "Username: ali\n",
      "Password: c\n",
      "You used an invalid password please try again\n"
     ]
    }
   ],
   "source": [
    "'''EXTRA1'''\n",
    "'''I chose names as username and surnames as a password. \n",
    "However, if I put same passwords for different people,for example my surname and Tuana teachers surname is same,\n",
    "program is getting weird. I could not get it over. \n",
    "I am calling out for the person who will check homeworks, please send me a feedback email which tells me solution\n",
    "MY e-mail is **clkk.ali87@gmail.com**'''\n",
    "log_dict = {\n",
    "            'ali' : 'clkk',\n",
    "            'omer' : 'cengiz',\n",
    "            'tuana' : 'celik',\n",
    "            'kutay' : 'akalin'\n",
    "}\n",
    "print(\"Now you can log in, thanks for joining us\")\n",
    "\n",
    "username = input('Username: ').lower()\n",
    "password = input('Password: ').lower()\n",
    "for k in log_dict:\n",
    "        passw = log_dict[k]\n",
    "        if   k == username and passw == password:\n",
    "            print('Your page is loading please wait...')\n",
    "            break\n",
    "        elif k != username and passw == password:\n",
    "            print('You used an invalid username please try again')\n",
    "            break\n",
    "        elif k == username and passw != password:\n",
    "            print('You used an invalid password please try again')\n",
    "            break\n",
    "        else:\n",
    "            print('You used invalid username and pasword please try again')\n",
    "            break"
   ]
  },
  {
   "cell_type": "code",
   "execution_count": 17,
   "metadata": {},
   "outputs": [
    {
     "name": "stdout",
     "output_type": "stream",
     "text": [
      "Now you can log in your page thanks for joining us\n",
      "Username: a\n",
      "Password: clkk\n",
      "You used an invalid username please try again\n",
      "You used invalid username and pasword please try again\n",
      "You used invalid username and pasword please try again\n",
      "You used invalid username and pasword please try again\n"
     ]
    }
   ],
   "source": [
    "'''EXTRA2''' \n",
    "'''I chose names as username and surnames as a password. \n",
    "However, if I put same passwords for different people,for example my surname and Tuana teachers surname is same,\n",
    "program is getting weird. I could not get it over. \n",
    "I am calling out for the person who will check homeworks, please send me a feedback email which tells me solution\n",
    "MY e-mail is **clkk.ali87@gmail.com**'''\n",
    "log_dict = {\n",
    "            'ali' : {\n",
    "                'u1' : 'clkk'\n",
    "},\n",
    "            'omer' : {\n",
    "                 'u2' : 'cengiz'\n",
    "},\n",
    "            'tuana' : {\n",
    "                 'u3' : 'celik'\n",
    "},\n",
    "            'kutay' : {\n",
    "                 'u4' : 'akalin'}\n",
    "}\n",
    "print(\"Now you can log in your page thanks for joining us\")\n",
    "\n",
    "username = input('Username: ').lower().strip()\n",
    "password = input('Password: ').lower().strip()\n",
    "for k,v in log_dict.items():\n",
    "    for va in v.values():\n",
    "        a = (k == username and va == password)\n",
    "        if a is True:\n",
    "            print('Your page is loading please wait...')\n",
    "            break\n",
    "        elif a is False:\n",
    "            if   k != username and va == password:\n",
    "                print('You used an invalid username please try again')\n",
    "                break\n",
    "            elif k == username and va != password:\n",
    "                print('You used invalid password please try again')\n",
    "                break\n",
    "            else:\n",
    "                print('You used invalid username and pasword please try again')\n",
    "                "
   ]
  },
  {
   "cell_type": "code",
   "execution_count": null,
   "metadata": {},
   "outputs": [],
   "source": []
  }
 ],
 "metadata": {
  "kernelspec": {
   "display_name": "Python 3",
   "language": "python",
   "name": "python3"
  },
  "language_info": {
   "codemirror_mode": {
    "name": "ipython",
    "version": 3
   },
   "file_extension": ".py",
   "mimetype": "text/x-python",
   "name": "python",
   "nbconvert_exporter": "python",
   "pygments_lexer": "ipython3",
   "version": "3.8.5"
  }
 },
 "nbformat": 4,
 "nbformat_minor": 4
}
