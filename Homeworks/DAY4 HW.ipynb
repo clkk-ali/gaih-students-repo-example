{
 "cells": [
  {
   "cell_type": "code",
   "execution_count": null,
   "metadata": {},
   "outputs": [],
   "source": [
    "for p in range(2, 100):\n",
    "    num = False\n",
    "    for x in range(2,p):\n",
    "        if p%x == 0: \n",
    "            num = True\n",
    "    if num == False: \n",
    "        print(p)"
   ]
  },
  {
   "cell_type": "code",
   "execution_count": null,
   "metadata": {},
   "outputs": [],
   "source": [
    "def asal_sayi (last):\n",
    "    if last < 2:\n",
    "        return\n",
    "    elif last == 2:\n",
    "        print(2)\n",
    "        return\n",
    "    else:\n",
    "        print(2)\n",
    "        for i in range(3,last):\n",
    "            division = False\n",
    "            for x in range(2,i):\n",
    "                if i % x == 0:\n",
    "                    division =True\n",
    "                    break\n",
    "            if division == False:\n",
    "                print(i)\n",
    "\n",
    "\n",
    "asal_sayi(100)\n"
   ]
  }
 ],
 "metadata": {
  "kernelspec": {
   "display_name": "Python 3",
   "language": "python",
   "name": "python3"
  },
  "language_info": {
   "codemirror_mode": {
    "name": "ipython",
    "version": 3
   },
   "file_extension": ".py",
   "mimetype": "text/x-python",
   "name": "python",
   "nbconvert_exporter": "python",
   "pygments_lexer": "ipython3",
   "version": "3.8.5"
  }
 },
 "nbformat": 4,
 "nbformat_minor": 4
}
