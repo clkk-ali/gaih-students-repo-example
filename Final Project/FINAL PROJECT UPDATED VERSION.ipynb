{
 "cells": [
  {
   "cell_type": "code",
   "execution_count": 3,
   "metadata": {},
   "outputs": [
    {
     "name": "stdout",
     "output_type": "stream",
     "text": [
      "Ali is a Manager.\n",
      "Ali is 25 years old.\n",
      "Ali speaks Turkish, English.\n",
      "Ahmet is a Employee.\n",
      "Ahmet is 30 years old.\n",
      "Ahmet speaks Turkish, French.\n",
      "Ayse is a Employee.\n",
      "Ayse is 27 years old.\n",
      "Ayse speaks Turkish, French, German.\n"
     ]
    }
   ],
   "source": [
    "class Person():\n",
    "    def __int__(self, role):\n",
    "        self.role = role\n",
    "    def  print_role(self):\n",
    "        print(\"Their role is: \" + self.role + \".\")\n",
    "        \n",
    "\n",
    "class Employee(Person):\n",
    "    def __init__(self, role, name, age, languages):\n",
    "        self.name = name\n",
    "        self.age= age\n",
    "        self.languages = languages\n",
    "        self.role = role\n",
    "    def  print_role(self):\n",
    "        print(self.name + \" is a \" + self.role + \".\")\n",
    "\n",
    "    def print_info(self):\n",
    "        print(self.name + \" is \" + self.age + \" years old.\")\n",
    "\n",
    "    def print_lang(self):\n",
    "        print(self.name + \" speaks \" + self.languages + \".\" )\n",
    "\n",
    "\n",
    "class Manager(Person):\n",
    "    def __init__(self,role, name, age, languages):\n",
    "        self.name = name\n",
    "        self.age= age\n",
    "        self.languages = languages\n",
    "        self.role = role\n",
    "    def print_role(self):\n",
    "        print(self.name + \" is a \" + self.role + \".\")\n",
    "\n",
    "    def print_info(self):\n",
    "        print(self.name + \" is \" + self.age + \" years old.\")\n",
    "\n",
    "    def print_lang(self):\n",
    "        print(self.name + \" speaks \" + self.languages + \".\")\n",
    "\n",
    "manager1 = Manager('Manager', 'Ali', '25', 'Turkish, English')\n",
    "employee1 = Employee('Employee', 'Ahmet', '30', 'Turkish, French')\n",
    "employee2 = Employee('Employee','Ayse', '27', 'Turkish, French, German')\n",
    "\n",
    "person_dict = {'Ali' : {'manager' : manager1  },\n",
    "               'Ahmet' : {'employee1' : employee1},\n",
    "               'Ayse' : {'employee2' : employee2},\n",
    "               }\n",
    "person_dict['Ali']['manager'].print_role()\n",
    "person_dict['Ali']['manager'].print_info()\n",
    "person_dict['Ali']['manager'].print_lang()\n",
    "person_dict['Ahmet']['employee1'].print_role()\n",
    "person_dict['Ahmet']['employee1'].print_info()\n",
    "person_dict['Ahmet']['employee1'].print_lang()\n",
    "person_dict['Ayse']['employee2'].print_role()\n",
    "person_dict['Ayse']['employee2'].print_info()\n",
    "person_dict['Ayse']['employee2'].print_lang()"
   ]
  },
  {
   "cell_type": "code",
   "execution_count": null,
   "metadata": {},
   "outputs": [],
   "source": []
  }
 ],
 "metadata": {
  "kernelspec": {
   "display_name": "Python 3",
   "language": "python",
   "name": "python3"
  },
  "language_info": {
   "codemirror_mode": {
    "name": "ipython",
    "version": 3
   },
   "file_extension": ".py",
   "mimetype": "text/x-python",
   "name": "python",
   "nbconvert_exporter": "python",
   "pygments_lexer": "ipython3",
   "version": "3.8.5"
  }
 },
 "nbformat": 4,
 "nbformat_minor": 4
}
