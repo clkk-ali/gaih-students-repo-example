{
 "cells": [
  {
   "cell_type": "code",
   "execution_count": null,
   "metadata": {},
   "outputs": [],
   "source": [
    "class Person():\n",
    "    def __init__(self, name, age, languages):\n",
    "        self.name = name\n",
    "        self.age= age\n",
    "        self.languages = languages\n",
    "\n",
    "    def print_info(self):\n",
    "        print(self.name + \" is \" + self.age + \" years old.\")\n",
    "\n",
    "    def print_lang(self):\n",
    "        print(self.name + \" speaks \" + self.languages + \".\" )\n",
    "manager1 = Person('Ali', '25', 'Turkish, English')\n",
    "employee1 = Person('Ahmet', '30', 'Turkish, French')\n",
    "employee2 = Person('Ayse', '27', 'Turkish, French, German')\n",
    "\n",
    "person_dict = {'Ali' : {'manager' : manager1  },\n",
    "               'Ahmet' : {'employee1' : employee1},\n",
    "               'Ayse' : {'employee2' : employee2},\n",
    "               }\n",
    "person_dict['Ali']['manager'].print_info()\n",
    "person_dict['Ali']['manager'].print_lang()\n",
    "person_dict['Ahmet']['employee1'].print_info()\n",
    "person_dict['Ahmet']['employee1'].print_lang()\n",
    "person_dict['Ayse']['employee2'].print_info()\n",
    "person_dict['Ayse']['employee2'].print_lang()"
   ]
  }
 ],
 "metadata": {
  "kernelspec": {
   "display_name": "Python 3",
   "language": "python",
   "name": "python3"
  },
  "language_info": {
   "codemirror_mode": {
    "name": "ipython",
    "version": 3
   },
   "file_extension": ".py",
   "mimetype": "text/x-python",
   "name": "python",
   "nbconvert_exporter": "python",
   "pygments_lexer": "ipython3",
   "version": "3.8.5"
  }
 },
 "nbformat": 4,
 "nbformat_minor": 4
}
